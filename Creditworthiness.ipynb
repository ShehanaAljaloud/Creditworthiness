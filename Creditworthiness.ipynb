{
 "cells": [
  {
   "cell_type": "code",
   "execution_count": 184,
   "metadata": {},
   "outputs": [],
   "source": [
    "from io import StringIO\n",
    "from IPython.display import Image\n",
    "from sklearn.tree import export_graphviz\n",
    "import pydot\n",
    "\n",
    "# Lines below are just to ignore warnings\n",
    "import warnings\n",
    "warnings.filterwarnings('ignore')\n",
    "import matplotlib.pyplot as plt\n",
    "import numpy as np\n",
    "import pandas as pd\n",
    "import seaborn as sns\n",
    "import scipy.stats as stats\n",
    "\n",
    "plt.style.use('fivethirtyeight')\n",
    "\n",
    "from ipywidgets import *\n",
    "from IPython.display import display\n",
    "\n",
    "%matplotlib inline\n",
    "%config InlineBackend.figure_format = 'retina'"
   ]
  },
  {
   "cell_type": "code",
   "execution_count": 185,
   "metadata": {},
   "outputs": [],
   "source": [
    "train = pd.read_excel('credit-data-training.xlsx')\n",
    "test = pd.read_excel('customers-to-score.xlsx')"
   ]
  },
  {
   "cell_type": "code",
   "execution_count": 186,
   "metadata": {},
   "outputs": [
    {
     "data": {
      "text/html": [
       "<div>\n",
       "<style scoped>\n",
       "    .dataframe tbody tr th:only-of-type {\n",
       "        vertical-align: middle;\n",
       "    }\n",
       "\n",
       "    .dataframe tbody tr th {\n",
       "        vertical-align: top;\n",
       "    }\n",
       "\n",
       "    .dataframe thead th {\n",
       "        text-align: right;\n",
       "    }\n",
       "</style>\n",
       "<table border=\"1\" class=\"dataframe\">\n",
       "  <thead>\n",
       "    <tr style=\"text-align: right;\">\n",
       "      <th></th>\n",
       "      <th>Credit-Application-Result</th>\n",
       "      <th>Account-Balance</th>\n",
       "      <th>Duration-of-Credit-Month</th>\n",
       "      <th>Payment-Status-of-Previous-Credit</th>\n",
       "      <th>Purpose</th>\n",
       "      <th>Credit-Amount</th>\n",
       "      <th>Value-Savings-Stocks</th>\n",
       "      <th>Length-of-current-employment</th>\n",
       "      <th>Instalment-per-cent</th>\n",
       "      <th>Guarantors</th>\n",
       "      <th>Duration-in-Current-address</th>\n",
       "      <th>Most-valuable-available-asset</th>\n",
       "      <th>Age-years</th>\n",
       "      <th>Concurrent-Credits</th>\n",
       "      <th>Type-of-apartment</th>\n",
       "      <th>No-of-Credits-at-this-Bank</th>\n",
       "      <th>Occupation</th>\n",
       "      <th>No-of-dependents</th>\n",
       "      <th>Telephone</th>\n",
       "      <th>Foreign-Worker</th>\n",
       "    </tr>\n",
       "  </thead>\n",
       "  <tbody>\n",
       "    <tr>\n",
       "      <th>0</th>\n",
       "      <td>Creditworthy</td>\n",
       "      <td>Some Balance</td>\n",
       "      <td>4</td>\n",
       "      <td>Paid Up</td>\n",
       "      <td>Other</td>\n",
       "      <td>1494</td>\n",
       "      <td>£100-£1000</td>\n",
       "      <td>&lt; 1yr</td>\n",
       "      <td>1</td>\n",
       "      <td>None</td>\n",
       "      <td>2.0</td>\n",
       "      <td>1</td>\n",
       "      <td>NaN</td>\n",
       "      <td>Other Banks/Depts</td>\n",
       "      <td>2</td>\n",
       "      <td>1</td>\n",
       "      <td>1</td>\n",
       "      <td>2</td>\n",
       "      <td>1</td>\n",
       "      <td>2</td>\n",
       "    </tr>\n",
       "    <tr>\n",
       "      <th>1</th>\n",
       "      <td>Creditworthy</td>\n",
       "      <td>Some Balance</td>\n",
       "      <td>4</td>\n",
       "      <td>Paid Up</td>\n",
       "      <td>Home Related</td>\n",
       "      <td>1494</td>\n",
       "      <td>£100-£1000</td>\n",
       "      <td>&lt; 1yr</td>\n",
       "      <td>1</td>\n",
       "      <td>None</td>\n",
       "      <td>2.0</td>\n",
       "      <td>1</td>\n",
       "      <td>29.0</td>\n",
       "      <td>Other Banks/Depts</td>\n",
       "      <td>2</td>\n",
       "      <td>1</td>\n",
       "      <td>1</td>\n",
       "      <td>2</td>\n",
       "      <td>1</td>\n",
       "      <td>2</td>\n",
       "    </tr>\n",
       "    <tr>\n",
       "      <th>2</th>\n",
       "      <td>Creditworthy</td>\n",
       "      <td>Some Balance</td>\n",
       "      <td>4</td>\n",
       "      <td>No Problems (in this bank)</td>\n",
       "      <td>Home Related</td>\n",
       "      <td>1544</td>\n",
       "      <td>None</td>\n",
       "      <td>1-4 yrs</td>\n",
       "      <td>2</td>\n",
       "      <td>None</td>\n",
       "      <td>1.0</td>\n",
       "      <td>1</td>\n",
       "      <td>42.0</td>\n",
       "      <td>Other Banks/Depts</td>\n",
       "      <td>2</td>\n",
       "      <td>More than 1</td>\n",
       "      <td>1</td>\n",
       "      <td>2</td>\n",
       "      <td>1</td>\n",
       "      <td>1</td>\n",
       "    </tr>\n",
       "    <tr>\n",
       "      <th>3</th>\n",
       "      <td>Creditworthy</td>\n",
       "      <td>Some Balance</td>\n",
       "      <td>4</td>\n",
       "      <td>No Problems (in this bank)</td>\n",
       "      <td>Home Related</td>\n",
       "      <td>3380</td>\n",
       "      <td>None</td>\n",
       "      <td>1-4 yrs</td>\n",
       "      <td>1</td>\n",
       "      <td>None</td>\n",
       "      <td>1.0</td>\n",
       "      <td>1</td>\n",
       "      <td>37.0</td>\n",
       "      <td>Other Banks/Depts</td>\n",
       "      <td>2</td>\n",
       "      <td>1</td>\n",
       "      <td>1</td>\n",
       "      <td>2</td>\n",
       "      <td>1</td>\n",
       "      <td>1</td>\n",
       "    </tr>\n",
       "    <tr>\n",
       "      <th>4</th>\n",
       "      <td>Creditworthy</td>\n",
       "      <td>No Account</td>\n",
       "      <td>6</td>\n",
       "      <td>Paid Up</td>\n",
       "      <td>Home Related</td>\n",
       "      <td>343</td>\n",
       "      <td>None</td>\n",
       "      <td>&lt; 1yr</td>\n",
       "      <td>4</td>\n",
       "      <td>None</td>\n",
       "      <td>1.0</td>\n",
       "      <td>1</td>\n",
       "      <td>27.0</td>\n",
       "      <td>Other Banks/Depts</td>\n",
       "      <td>2</td>\n",
       "      <td>1</td>\n",
       "      <td>1</td>\n",
       "      <td>1</td>\n",
       "      <td>1</td>\n",
       "      <td>1</td>\n",
       "    </tr>\n",
       "  </tbody>\n",
       "</table>\n",
       "</div>"
      ],
      "text/plain": [
       "  Credit-Application-Result Account-Balance  Duration-of-Credit-Month  \\\n",
       "0              Creditworthy    Some Balance                         4   \n",
       "1              Creditworthy    Some Balance                         4   \n",
       "2              Creditworthy    Some Balance                         4   \n",
       "3              Creditworthy    Some Balance                         4   \n",
       "4              Creditworthy      No Account                         6   \n",
       "\n",
       "  Payment-Status-of-Previous-Credit       Purpose  Credit-Amount  \\\n",
       "0                           Paid Up         Other           1494   \n",
       "1                           Paid Up  Home Related           1494   \n",
       "2        No Problems (in this bank)  Home Related           1544   \n",
       "3        No Problems (in this bank)  Home Related           3380   \n",
       "4                           Paid Up  Home Related            343   \n",
       "\n",
       "  Value-Savings-Stocks Length-of-current-employment  Instalment-per-cent  \\\n",
       "0           £100-£1000                        < 1yr                    1   \n",
       "1           £100-£1000                        < 1yr                    1   \n",
       "2                 None                      1-4 yrs                    2   \n",
       "3                 None                      1-4 yrs                    1   \n",
       "4                 None                        < 1yr                    4   \n",
       "\n",
       "  Guarantors  Duration-in-Current-address  Most-valuable-available-asset  \\\n",
       "0       None                          2.0                              1   \n",
       "1       None                          2.0                              1   \n",
       "2       None                          1.0                              1   \n",
       "3       None                          1.0                              1   \n",
       "4       None                          1.0                              1   \n",
       "\n",
       "   Age-years Concurrent-Credits  Type-of-apartment No-of-Credits-at-this-Bank  \\\n",
       "0        NaN  Other Banks/Depts                  2                          1   \n",
       "1       29.0  Other Banks/Depts                  2                          1   \n",
       "2       42.0  Other Banks/Depts                  2                More than 1   \n",
       "3       37.0  Other Banks/Depts                  2                          1   \n",
       "4       27.0  Other Banks/Depts                  2                          1   \n",
       "\n",
       "   Occupation  No-of-dependents  Telephone  Foreign-Worker  \n",
       "0           1                 2          1               2  \n",
       "1           1                 2          1               2  \n",
       "2           1                 2          1               1  \n",
       "3           1                 2          1               1  \n",
       "4           1                 1          1               1  "
      ]
     },
     "execution_count": 186,
     "metadata": {},
     "output_type": "execute_result"
    }
   ],
   "source": [
    "train.head()"
   ]
  },
  {
   "cell_type": "code",
   "execution_count": 187,
   "metadata": {},
   "outputs": [],
   "source": [
    "# test.head()"
   ]
  },
  {
   "cell_type": "code",
   "execution_count": 188,
   "metadata": {},
   "outputs": [
    {
     "name": "stdout",
     "output_type": "stream",
     "text": [
      "(500, 19)\n",
      "(500, 20)\n"
     ]
    }
   ],
   "source": [
    "print (test.shape)\n",
    "print (train.shape)"
   ]
  },
  {
   "cell_type": "code",
   "execution_count": 189,
   "metadata": {},
   "outputs": [],
   "source": [
    "train['Age-years']=train['Age-years'].fillna(33)"
   ]
  },
  {
   "cell_type": "code",
   "execution_count": 190,
   "metadata": {},
   "outputs": [
    {
     "data": {
      "text/plain": [
       "None    457\n",
       "Yes      43\n",
       "Name: Guarantors, dtype: int64"
      ]
     },
     "execution_count": 190,
     "metadata": {},
     "output_type": "execute_result"
    }
   ],
   "source": [
    "train['Guarantors'].value_counts()"
   ]
  },
  {
   "cell_type": "code",
   "execution_count": 191,
   "metadata": {},
   "outputs": [],
   "source": [
    "del test['Concurrent-Credits']\n",
    "del train['Concurrent-Credits']\n",
    "\n",
    "del test['Occupation']\n",
    "del train['Occupation']\n",
    "\n",
    "del test['Guarantors']\n",
    "del train['Guarantors']\n",
    "\n",
    "del test['No-of-dependents']\n",
    "del train['No-of-dependents']\n",
    "\n",
    "del test['Foreign-Worker']\n",
    "del train['Foreign-Worker']\n",
    "\n",
    "del test['Duration-in-Current-address']\n",
    "del train['Duration-in-Current-address']\n",
    "\n",
    "del test['Telephone']\n",
    "del train['Telephone']"
   ]
  },
  {
   "cell_type": "code",
   "execution_count": 192,
   "metadata": {},
   "outputs": [
    {
     "name": "stdout",
     "output_type": "stream",
     "text": [
      "<class 'pandas.core.frame.DataFrame'>\n",
      "RangeIndex: 500 entries, 0 to 499\n",
      "Data columns (total 13 columns):\n",
      "Credit-Application-Result            500 non-null object\n",
      "Account-Balance                      500 non-null object\n",
      "Duration-of-Credit-Month             500 non-null int64\n",
      "Payment-Status-of-Previous-Credit    500 non-null object\n",
      "Purpose                              500 non-null object\n",
      "Credit-Amount                        500 non-null int64\n",
      "Value-Savings-Stocks                 500 non-null object\n",
      "Length-of-current-employment         500 non-null object\n",
      "Instalment-per-cent                  500 non-null int64\n",
      "Most-valuable-available-asset        500 non-null int64\n",
      "Age-years                            500 non-null float64\n",
      "Type-of-apartment                    500 non-null int64\n",
      "No-of-Credits-at-this-Bank           500 non-null object\n",
      "dtypes: float64(1), int64(5), object(7)\n",
      "memory usage: 50.9+ KB\n"
     ]
    }
   ],
   "source": [
    "train.info()"
   ]
  },
  {
   "cell_type": "code",
   "execution_count": 193,
   "metadata": {},
   "outputs": [
    {
     "data": {
      "text/plain": [
       "2    352\n",
       "1     92\n",
       "3     56\n",
       "Name: Type-of-apartment, dtype: int64"
      ]
     },
     "execution_count": 193,
     "metadata": {},
     "output_type": "execute_result"
    }
   ],
   "source": [
    "# train['Credit-Application-Result'].value_counts()\n",
    "# train['Account-Balance'].value_counts()\n",
    "# train['Purpose'].value_counts() # 4 catogries \n",
    "# train['Payment-Status-of-Previous-Credit'].value_counts()# 3 catogries\n",
    "# train['Value-Savings-Stocks'].value_counts()# 3 catogries\n",
    "# train['Length-of-current-employment'].value_counts() # 3 catogries\n",
    "# train['No-of-Credits-at-this-Bank'].value_counts()\n",
    "# train['Credit-Amount'].value_counts()\n",
    "# train['Duration-of-Credit-Month'].value_counts()\n",
    "# train['Most-valuable-available-asset'].value_counts()\n",
    "train['Type-of-apartment'].value_counts()\n",
    "\n"
   ]
  },
  {
   "cell_type": "code",
   "execution_count": 194,
   "metadata": {},
   "outputs": [],
   "source": [
    "train['Payment-Status-of-Previous-Credit'] = train['Payment-Status-of-Previous-Credit'].apply(lambda x: 1 if x=='Paid Up' else 2 if x=='Some Problems' else 3)\n",
    "train['Value-Savings-Stocks'] = train['Value-Savings-Stocks'].apply(lambda x: 1 if x=='None' else 2 if x=='£100-£1000' else 3) \n",
    "train['Length-of-current-employment'] = train['Length-of-current-employment'].apply(lambda x: 1 if x=='< 1yr' else 2 if x=='4-7 yrs' else 3) \n",
    "train['Purpose'] = train['Purpose'].apply(lambda x: 1 if x=='Home Related' else 2 if x=='Used car' else 3 if x== 'New car' else 4) \n",
    "\n",
    "train['Credit-Application-Result']=train['Credit-Application-Result'].apply(lambda x: 1 if x=='Creditworthy' else 0 )\n",
    "train['Account-Balance']=train['Account-Balance'].apply(lambda x: 1 if x=='Some Balance' else 0 )\n",
    "train['No-of-Credits-at-this-Bank']=train['No-of-Credits-at-this-Bank'].apply(lambda x: 1 if x=='1' else 0 )"
   ]
  },
  {
   "cell_type": "code",
   "execution_count": 195,
   "metadata": {},
   "outputs": [],
   "source": [
    "test['Account-Balance']=test['Account-Balance'].apply(lambda x: 1 if x=='Some Balance' else 0 )\n",
    "test['Purpose'] = test['Purpose'].apply(lambda x: 1 if x=='Home Related' else 2 if x=='Used car' else 3 if x== 'New car' else 4)\n",
    "test['Payment-Status-of-Previous-Credit'] = test['Payment-Status-of-Previous-Credit'].apply(lambda x: 1 if x=='Paid Up' else 2 if x=='Some Problems' else 3)\n",
    "test['Value-Savings-Stocks'] = test['Value-Savings-Stocks'].apply(lambda x: 1 if x=='None' else 2 if x=='£100-£1000' else 3) \n",
    "test['Length-of-current-employment'] = test['Length-of-current-employment'].apply(lambda x: 1 if x=='< 1yr' else 2 if x=='4-7 yrs' else 3) \n",
    "test['No-of-Credits-at-this-Bank']=test['No-of-Credits-at-this-Bank'].apply(lambda x: 1 if x=='1' else 0 )"
   ]
  },
  {
   "cell_type": "code",
   "execution_count": 196,
   "metadata": {},
   "outputs": [],
   "source": [
    "y = train['Credit-Application-Result']\n",
    "X = train[['Account-Balance',\n",
    "       'Duration-of-Credit-Month', 'Payment-Status-of-Previous-Credit',\n",
    "       'Purpose', 'Credit-Amount', 'Value-Savings-Stocks',\n",
    "       'Length-of-current-employment', 'Instalment-per-cent',\n",
    "       'Most-valuable-available-asset', 'Age-years', 'Type-of-apartment',\n",
    "       'No-of-Credits-at-this-Bank']]\n",
    "X_train, X_test, y_train, y_test = train_test_split(X,y,stratify=y, test_size=0.3,random_state =1)"
   ]
  },
  {
   "cell_type": "code",
   "execution_count": 13,
   "metadata": {},
   "outputs": [],
   "source": [
    "X_train = train[test.keys()]\n",
    "y_train = train['Credit-Application-Result']\n",
    "X_test= test\n",
    "from sklearn.model_selection import train_test_split"
   ]
  },
  {
   "cell_type": "code",
   "execution_count": 197,
   "metadata": {},
   "outputs": [],
   "source": [
    "from sklearn.preprocessing import MinMaxScaler\n",
    "from sklearn.dummy import DummyRegressor\n",
    "from sklearn.tree import DecisionTreeRegressor\n",
    "from sklearn.model_selection import GridSearchCV\n",
    "\n",
    "\n",
    "\n",
    "scaler = MinMaxScaler(feature_range=(0, 1))\n",
    "\n",
    "x_train_scaled = scaler.fit_transform(X_train)\n",
    "X_train = pd.DataFrame(x_train_scaled)\n",
    "\n",
    "x_test_scaled = scaler.fit_transform(X_test)\n",
    "X_test = pd.DataFrame(x_test_scaled)"
   ]
  },
  {
   "cell_type": "code",
   "execution_count": 130,
   "metadata": {},
   "outputs": [
    {
     "data": {
      "text/plain": [
       "0.432"
      ]
     },
     "execution_count": 130,
     "metadata": {},
     "output_type": "execute_result"
    }
   ],
   "source": [
    "from sklearn.ensemble import AdaBoostClassifier\n",
    "# bm = AdaBoostClassifier()\n",
    "# bm.fit(X_train, y_train)\n",
    "# print(bm.score(X_train,y_train))\n",
    "# print(bm.score(X_test,y_test))\n",
    "gs_b = GridSearchCV(AdaBoostClassifier(), n_jobs=-1,param_grid={}, cv=5)\n",
    "gs_b.fit(X_train, y_train)\n",
    "gs_b.best_score_\n"
   ]
  },
  {
   "cell_type": "code",
   "execution_count": 121,
   "metadata": {},
   "outputs": [],
   "source": [
    "dtc_params = {\n",
    "    'max_depth': range(1,2),\n",
    "    #'max_features': [None, 'log2', 'sqrt'],\n",
    "    'min_samples_split': range(20,30),\n",
    "    'max_leaf_nodes': [None],\n",
    "    'min_samples_leaf': range(1,10)\n",
    "}\n",
    "\n",
    "from sklearn.model_selection import GridSearchCV\n",
    "# set the gridsearch\n",
    "dtc_gs = GridSearchCV(DecisionTreeClassifier(), dtc_params,  n_jobs=-1, cv=5)"
   ]
  },
  {
   "cell_type": "code",
   "execution_count": 122,
   "metadata": {},
   "outputs": [
    {
     "data": {
      "text/plain": [
       "GridSearchCV(cv=5, error_score='raise-deprecating',\n",
       "             estimator=DecisionTreeClassifier(class_weight=None,\n",
       "                                              criterion='gini', max_depth=None,\n",
       "                                              max_features=None,\n",
       "                                              max_leaf_nodes=None,\n",
       "                                              min_impurity_decrease=0.0,\n",
       "                                              min_impurity_split=None,\n",
       "                                              min_samples_leaf=1,\n",
       "                                              min_samples_split=2,\n",
       "                                              min_weight_fraction_leaf=0.0,\n",
       "                                              presort=False, random_state=None,\n",
       "                                              splitter='best'),\n",
       "             iid='warn', n_jobs=-1,\n",
       "             param_grid={'max_depth': range(1, 2), 'max_leaf_nodes': [None],\n",
       "                         'min_samples_leaf': range(1, 10),\n",
       "                         'min_samples_split': range(20, 30)},\n",
       "             pre_dispatch='2*n_jobs', refit=True, return_train_score=False,\n",
       "             scoring=None, verbose=0)"
      ]
     },
     "execution_count": 122,
     "metadata": {},
     "output_type": "execute_result"
    }
   ],
   "source": [
    "dtc_gs.fit(X_train, y_train)\n"
   ]
  },
  {
   "cell_type": "code",
   "execution_count": 123,
   "metadata": {},
   "outputs": [],
   "source": [
    "predictions = dtc_gs.best_estimator_.predict(X_test)\n"
   ]
  },
  {
   "cell_type": "code",
   "execution_count": 124,
   "metadata": {},
   "outputs": [
    {
     "data": {
      "text/plain": [
       "0.636"
      ]
     },
     "execution_count": 124,
     "metadata": {},
     "output_type": "execute_result"
    }
   ],
   "source": [
    "np.sum((predictions == 1))\n",
    "dtc_gs.best_score_\n",
    "# dtc_gs.score(X_test,y_test)"
   ]
  },
  {
   "cell_type": "code",
   "execution_count": 1104,
   "metadata": {},
   "outputs": [],
   "source": [
    "\n",
    "# from sklearn.ensemble import RandomForestClassifier, ExtraTreesClassifier\n",
    "\n",
    "# rf_params = {\n",
    "#       'n_estimators': range(1,50),\n",
    "# #     'max_features':[2, 3, 5, 7, 8],\n",
    "#       'max_depth': range(1,20),\n",
    "#      'criterion':['gini', 'entropy'],\n",
    "# }\n",
    "# rf_g = RandomForestClassifier()\n",
    "# gs_rf2 = GridSearchCV(rf_g, param_grid=rf_params, cv=5, verbose = 1)#, refit=False)\n",
    "# gs_rf2=gs.fit(X_train, y_train)\n",
    "\n",
    "# predictions_rf2 = gs_rf.best_estimator_.predict(X_test)\n",
    "# np.sum((predictions_rf == 1))\n",
    "# gs_rf.best_score_\n",
    "# gs_rf.score(X_test,y_test)\n"
   ]
  },
  {
   "cell_type": "code",
   "execution_count": 107,
   "metadata": {},
   "outputs": [
    {
     "name": "stdout",
     "output_type": "stream",
     "text": [
      "Fitting 2 folds for each of 108 candidates, totalling 216 fits\n"
     ]
    },
    {
     "name": "stderr",
     "output_type": "stream",
     "text": [
      "[Parallel(n_jobs=1)]: Using backend SequentialBackend with 1 concurrent workers.\n",
      "[Parallel(n_jobs=1)]: Done 216 out of 216 | elapsed:    1.6s finished\n"
     ]
    }
   ],
   "source": [
    "\n",
    "from sklearn.ensemble import RandomForestClassifier, ExtraTreesClassifier\n",
    "\n",
    "rf_params = {\n",
    "      'n_estimators': range(1,5),\n",
    "     'max_features':[2,3,4],\n",
    "      'max_depth': range(1,10),\n",
    "     #'criterion':['gini', 'entropy'],\n",
    "}\n",
    "rf_g = RandomForestClassifier()\n",
    "gs_rf = GridSearchCV(rf_g, param_grid=rf_params, cv=2, verbose = 1)#, refit=False)\n",
    "gs_rf=gs_rf.fit(X_train, y_train)\n"
   ]
  },
  {
   "cell_type": "code",
   "execution_count": 108,
   "metadata": {},
   "outputs": [],
   "source": [
    "predictions_rf = gs_rf.best_estimator_.predict(X_test)\n"
   ]
  },
  {
   "cell_type": "code",
   "execution_count": 139,
   "metadata": {},
   "outputs": [
    {
     "data": {
      "text/plain": [
       "409"
      ]
     },
     "execution_count": 139,
     "metadata": {},
     "output_type": "execute_result"
    }
   ],
   "source": [
    "np.sum((predictions_rf == 1))\n",
    "# gs_rf.best_score_\n",
    "# gs_rf.score(X_test,y_test)"
   ]
  },
  {
   "cell_type": "code",
   "execution_count": 116,
   "metadata": {},
   "outputs": [
    {
     "name": "stdout",
     "output_type": "stream",
     "text": [
      "0.724\n"
     ]
    }
   ],
   "source": [
    "\n",
    "from sklearn.linear_model import LogisticRegression, LogisticRegressionCV\n",
    "model = LogisticRegression()\n",
    "params = {#'C':np.logspace(-5,5,5),\n",
    "          #'penalty':['l1'],\n",
    "          'fit_intercept':[True]}\n",
    "gs = GridSearchCV(estimator=model,\n",
    "                  param_grid=params,\n",
    "                  cv=2,\n",
    "                  scoring='accuracy',\n",
    "                  return_train_score=True)\n",
    "gs.fit(X_train,y_train)\n",
    "print(gs.best_score_)\n",
    "# gs.score(X_test,y_test)"
   ]
  },
  {
   "cell_type": "code",
   "execution_count": null,
   "metadata": {},
   "outputs": [],
   "source": []
  },
  {
   "cell_type": "code",
   "execution_count": null,
   "metadata": {},
   "outputs": [],
   "source": []
  },
  {
   "cell_type": "code",
   "execution_count": 234,
   "metadata": {},
   "outputs": [
    {
     "name": "stdout",
     "output_type": "stream",
     "text": [
      "0.7542857142857143\n",
      "0.7933333333333333\n"
     ]
    }
   ],
   "source": [
    "from sklearn.linear_model import LogisticRegression\n",
    "from sklearn.metrics import classification_report, confusion_matrix\n",
    "\n",
    "lg = LogisticRegression()\n",
    "lg.fit(X_train,y_train)\n",
    "predictions_lg =lg.predict(X_test)\n",
    "print(lg.score(X_train,y_train))\n",
    "print(lg.score(X_test,y_test))"
   ]
  },
  {
   "cell_type": "code",
   "execution_count": 235,
   "metadata": {
    "scrolled": false
   },
   "outputs": [
    {
     "name": "stdout",
     "output_type": "stream",
     "text": [
      "1.0\n",
      "0.68\n"
     ]
    }
   ],
   "source": [
    "from sklearn.tree import DecisionTreeClassifier\n",
    "dt = DecisionTreeClassifier()\n",
    "dt.fit(X_train, y_train)\n",
    "print(dt.score(X_train,y_train))\n",
    "print(dt.score(X_test,y_test))"
   ]
  },
  {
   "cell_type": "code",
   "execution_count": 271,
   "metadata": {
    "scrolled": true
   },
   "outputs": [
    {
     "name": "stdout",
     "output_type": "stream",
     "text": [
      "0.9971428571428571\n",
      "0.8\n"
     ]
    },
    {
     "data": {
      "text/plain": [
       "False"
      ]
     },
     "execution_count": 271,
     "metadata": {},
     "output_type": "execute_result"
    }
   ],
   "source": [
    "from sklearn.ensemble import RandomForestClassifier\n",
    "\n",
    "rf = RandomForestClassifier()\n",
    "rf.fit(X_train, y_train)\n",
    "print(rf.score(X_train,y_train))\n",
    "print(rf.score(X_test,y_test))\n"
   ]
  },
  {
   "cell_type": "code",
   "execution_count": 245,
   "metadata": {},
   "outputs": [
    {
     "name": "stdout",
     "output_type": "stream",
     "text": [
      "0.8342857142857143\n",
      "0.7666666666666667\n"
     ]
    }
   ],
   "source": [
    "from sklearn.ensemble import AdaBoostClassifier\n",
    "bm = AdaBoostClassifier()\n",
    "bm.fit(X_train, y_train)\n",
    "print(bm.score(X_train,y_train))\n",
    "print(bm.score(X_test,y_test))"
   ]
  },
  {
   "cell_type": "code",
   "execution_count": 222,
   "metadata": {},
   "outputs": [],
   "source": [
    "y = train['Credit-Application-Result']\n",
    "X = train[['Account-Balance',\n",
    "       'Duration-of-Credit-Month', 'Payment-Status-of-Previous-Credit',\n",
    "       'Purpose', 'Credit-Amount', 'Value-Savings-Stocks',\n",
    "       'Length-of-current-employment', 'Instalment-per-cent',\n",
    "       'Most-valuable-available-asset', 'Age-years', 'Type-of-apartment',\n",
    "       'No-of-Credits-at-this-Bank']]\n",
    "X_train, X_test, y_train, y_test = train_test_split(X,y,stratify=y, test_size=0.3,random_state =1)\n",
    "\n",
    "scaler = MinMaxScaler(feature_range=(0, 1))\n",
    "\n",
    "x_train_scaled = scaler.fit_transform(X_train)\n",
    "X_train = pd.DataFrame(x_train_scaled)\n",
    "\n",
    "x_test_scaled = scaler.fit_transform(X_test)\n",
    "X_test = pd.DataFrame(x_test_scaled)"
   ]
  },
  {
   "cell_type": "code",
   "execution_count": null,
   "metadata": {},
   "outputs": [],
   "source": []
  },
  {
   "cell_type": "code",
   "execution_count": 244,
   "metadata": {},
   "outputs": [
    {
     "name": "stdout",
     "output_type": "stream",
     "text": [
      "Feature: 0, Score: 1.24526\n",
      "Feature: 1, Score: -0.82183\n",
      "Feature: 2, Score: 0.60614\n",
      "Feature: 3, Score: 0.92642\n",
      "Feature: 4, Score: -1.17395\n",
      "Feature: 5, Score: 0.90943\n",
      "Feature: 6, Score: 0.74083\n",
      "Feature: 7, Score: -0.75519\n",
      "Feature: 8, Score: -0.60509\n",
      "Feature: 9, Score: 0.26632\n",
      "Feature: 10, Score: 0.07968\n",
      "Feature: 11, Score: 0.38144\n"
     ]
    },
    {
     "data": {
      "image/png": "[encoded data removed]",
      "text/plain": [
       "<Figure size 432x288 with 1 Axes>"
      ]
     },
     "metadata": {
      "image/png": {
       "height": 244,
       "width": 418
      },
      "needs_background": "light"
     },
     "output_type": "display_data"
    }
   ],
   "source": [
    "from matplotlib import pyplot\n",
    "importance = lg.coef_[0]\n",
    "# summarize feature importance\n",
    "for i,v in enumerate(importance):\n",
    "    print('Feature: %0d, Score: %.5f' % (i,v))\n",
    "# plot feature importance\n",
    "pyplot.bar([x for x in range(len(importance))], importance)\n",
    "pyplot.show()"
   ]
  },
  {
   "cell_type": "code",
   "execution_count": 241,
   "metadata": {},
   "outputs": [
    {
     "name": "stdout",
     "output_type": "stream",
     "text": [
      "Feature: 0, Score: 0.08511\n",
      "Feature: 1, Score: 0.17486\n",
      "Feature: 2, Score: 0.01878\n",
      "Feature: 3, Score: 0.03364\n",
      "Feature: 4, Score: 0.29202\n",
      "Feature: 5, Score: 0.03555\n",
      "Feature: 6, Score: 0.03707\n",
      "Feature: 7, Score: 0.05194\n",
      "Feature: 8, Score: 0.03916\n",
      "Feature: 9, Score: 0.19514\n",
      "Feature: 10, Score: 0.01427\n",
      "Feature: 11, Score: 0.02247\n"
     ]
    },
    {
     "data": {
      "image/png": "[encoded data removed]",
      "text/plain": [
       "<Figure size 432x288 with 1 Axes>"
      ]
     },
     "metadata": {
      "image/png": {
       "height": 244,
       "width": 416
      },
      "needs_background": "light"
     },
     "output_type": "display_data"
    }
   ],
   "source": [
    "importance = dt.feature_importances_\n",
    "# summarize feature importance\n",
    "for i,v in enumerate(importance):\n",
    "    print('Feature: %0d, Score: %.5f' % (i,v))\n",
    "# plot feature importance\n",
    "pyplot.bar([x for x in range(len(importance))], importance)\n",
    "pyplot.show()"
   ]
  },
  {
   "cell_type": "code",
   "execution_count": 242,
   "metadata": {},
   "outputs": [
    {
     "name": "stdout",
     "output_type": "stream",
     "text": [
      "Feature: 0, Score: 0.06871\n",
      "Feature: 1, Score: 0.13186\n",
      "Feature: 2, Score: 0.04110\n",
      "Feature: 3, Score: 0.06171\n",
      "Feature: 4, Score: 0.23648\n",
      "Feature: 5, Score: 0.04597\n",
      "Feature: 6, Score: 0.04935\n",
      "Feature: 7, Score: 0.07319\n",
      "Feature: 8, Score: 0.06907\n",
      "Feature: 9, Score: 0.15954\n",
      "Feature: 10, Score: 0.03951\n",
      "Feature: 11, Score: 0.02352\n"
     ]
    },
    {
     "data": {
      "image/png": "[encoded data removed]",
      "text/plain": [
       "<Figure size 432x288 with 1 Axes>"
      ]
     },
     "metadata": {
      "image/png": {
       "height": 244,
       "width": 416
      },
      "needs_background": "light"
     },
     "output_type": "display_data"
    }
   ],
   "source": [
    "importance = rf.feature_importances_\n",
    "# summarize feature importance\n",
    "for i,v in enumerate(importance):\n",
    "    print('Feature: %0d, Score: %.5f' % (i,v))\n",
    "# plot feature importance\n",
    "pyplot.bar([x for x in range(len(importance))], importance)\n",
    "pyplot.show()"
   ]
  },
  {
   "cell_type": "code",
   "execution_count": 246,
   "metadata": {},
   "outputs": [
    {
     "name": "stdout",
     "output_type": "stream",
     "text": [
      "Feature: 0, Score: 0.02000\n",
      "Feature: 1, Score: 0.18000\n",
      "Feature: 2, Score: 0.04000\n",
      "Feature: 3, Score: 0.04000\n",
      "Feature: 4, Score: 0.60000\n",
      "Feature: 5, Score: 0.02000\n",
      "Feature: 6, Score: 0.02000\n",
      "Feature: 7, Score: 0.02000\n",
      "Feature: 8, Score: 0.02000\n",
      "Feature: 9, Score: 0.04000\n",
      "Feature: 10, Score: 0.00000\n",
      "Feature: 11, Score: 0.00000\n"
     ]
    },
    {
     "data": {
      "image/png": "[encoded data removed]",
      "text/plain": [
       "<Figure size 432x288 with 1 Axes>"
      ]
     },
     "metadata": {
      "image/png": {
       "height": 244,
       "width": 409
      },
      "needs_background": "light"
     },
     "output_type": "display_data"
    }
   ],
   "source": [
    "importance = bm.feature_importances_\n",
    "# summarize feature importance\n",
    "for i,v in enumerate(importance):\n",
    "    print('Feature: %0d, Score: %.5f' % (i,v))\n",
    "# plot feature importance\n",
    "pyplot.bar([x for x in range(len(importance))], importance)\n",
    "pyplot.show()"
   ]
  },
  {
   "cell_type": "code",
   "execution_count": null,
   "metadata": {},
   "outputs": [],
   "source": []
  },
  {
   "cell_type": "code",
   "execution_count": null,
   "metadata": {},
   "outputs": [],
   "source": []
  },
  {
   "cell_type": "code",
   "execution_count": null,
   "metadata": {},
   "outputs": [],
   "source": []
  },
  {
   "cell_type": "code",
   "execution_count": 247,
   "metadata": {},
   "outputs": [
    {
     "name": "stdout",
     "output_type": "stream",
     "text": [
      "tp: 103\n",
      "fp: 27\n",
      "tn: 16\n",
      "fn: 4\n",
      "Number of classification errors: 31\n",
      "[[103   4]\n",
      " [ 27  16]]\n"
     ]
    }
   ],
   "source": [
    "predictions_lg =lg.predict(X_test)\n",
    "\n",
    "tp = np.sum((y_test == 1) & (predictions_lg  == 1)) # 1 are predicted 1\n",
    "fp = np.sum((y_test == 0) & (predictions_lg  == 1)) # 0 are predicted 1\n",
    "tn = np.sum((y_test == 0) & (predictions_lg  == 0)) # 0 are predicted 0\n",
    "fn = np.sum((y_test == 1) & (predictions_lg  == 0)) # 1 are predicted 0\n",
    "print(\"tp:\", tp)\n",
    "print(\"fp:\", fp)\n",
    "print(\"tn:\", tn) \n",
    "print(\"fn:\", fn)\n",
    "print(\"Number of classification errors:\", fp + fn)\n",
    "print(confusion_matrix(y_test, predictions_lg , labels=[1,0]))"
   ]
  },
  {
   "cell_type": "code",
   "execution_count": 249,
   "metadata": {},
   "outputs": [
    {
     "name": "stdout",
     "output_type": "stream",
     "text": [
      "tp: 86\n",
      "fp: 27\n",
      "tn: 16\n",
      "fn: 21\n",
      "Number of classification errors: 48\n",
      "[[86 21]\n",
      " [27 16]]\n"
     ]
    }
   ],
   "source": [
    "predictions_dt =dt.predict(X_test)\n",
    "\n",
    "tp = np.sum((y_test == 1) & (predictions_dt  == 1)) # 1 are predicted 1\n",
    "fp = np.sum((y_test == 0) & (predictions_dt  == 1)) # 0 are predicted 1\n",
    "tn = np.sum((y_test == 0) & (predictions_dt  == 0)) # 0 are predicted 0\n",
    "fn = np.sum((y_test == 1) & (predictions_dt  == 0)) # 1 are predicted 0\n",
    "print(\"tp:\", tp)\n",
    "print(\"fp:\", fp)\n",
    "print(\"tn:\", tn) \n",
    "print(\"fn:\", fn)\n",
    "print(\"Number of classification errors:\", fp + fn)\n",
    "print(confusion_matrix(y_test, predictions_dt , labels=[1,0]))\n",
    "\n"
   ]
  },
  {
   "cell_type": "code",
   "execution_count": 248,
   "metadata": {},
   "outputs": [
    {
     "name": "stdout",
     "output_type": "stream",
     "text": [
      "tp: 101\n",
      "fp: 22\n",
      "tn: 21\n",
      "fn: 6\n",
      "Number of classification errors: 28\n",
      "[[101   6]\n",
      " [ 22  21]]\n"
     ]
    }
   ],
   "source": [
    "predictions_rf =rf.predict(X_test)\n",
    "\n",
    "tp = np.sum((y_test == 1) & (predictions_rf  == 1)) # 1 are predicted 1\n",
    "fp = np.sum((y_test == 0) & (predictions_rf  == 1)) # 0 are predicted 1\n",
    "tn = np.sum((y_test == 0) & (predictions_rf  == 0)) # 0 are predicted 0\n",
    "fn = np.sum((y_test == 1) & (predictions_rf  == 0)) # 1 are predicted 0\n",
    "print(\"tp:\", tp)\n",
    "print(\"fp:\", fp)\n",
    "print(\"tn:\", tn) \n",
    "print(\"fn:\", fn)\n",
    "print(\"Number of classification errors:\", fp + fn)\n",
    "print(confusion_matrix(y_test, predictions_rf , labels=[1,0]))\n",
    "\n"
   ]
  },
  {
   "cell_type": "code",
   "execution_count": 250,
   "metadata": {},
   "outputs": [
    {
     "name": "stdout",
     "output_type": "stream",
     "text": [
      "tp: 100\n",
      "fp: 28\n",
      "tn: 15\n",
      "fn: 7\n",
      "Number of classification errors: 35\n",
      "[[100   7]\n",
      " [ 28  15]]\n"
     ]
    }
   ],
   "source": [
    "predictions_bm =bm.predict(X_test)\n",
    "\n",
    "tp = np.sum((y_test == 1) & (predictions_bm  == 1)) # 1 are predicted 1\n",
    "fp = np.sum((y_test == 0) & (predictions_bm  == 1)) # 0 are predicted 1\n",
    "tn = np.sum((y_test == 0) & (predictions_bm  == 0)) # 0 are predicted 0\n",
    "fn = np.sum((y_test == 1) & (predictions_bm  == 0)) # 1 are predicted 0\n",
    "print(\"tp:\", tp)\n",
    "print(\"fp:\", fp)\n",
    "print(\"tn:\", tn) \n",
    "print(\"fn:\", fn)\n",
    "print(\"Number of classification errors:\", fp + fn)\n",
    "print(confusion_matrix(y_test, predictions_bm , labels=[1,0]))\n",
    "\n"
   ]
  },
  {
   "cell_type": "code",
   "execution_count": null,
   "metadata": {},
   "outputs": [],
   "source": []
  },
  {
   "cell_type": "code",
   "execution_count": null,
   "metadata": {},
   "outputs": [],
   "source": []
  },
  {
   "cell_type": "code",
   "execution_count": null,
   "metadata": {},
   "outputs": [],
   "source": []
  },
  {
   "cell_type": "code",
   "execution_count": null,
   "metadata": {},
   "outputs": [],
   "source": []
  },
  {
   "cell_type": "code",
   "execution_count": null,
   "metadata": {},
   "outputs": [],
   "source": []
  },
  {
   "cell_type": "code",
   "execution_count": null,
   "metadata": {},
   "outputs": [],
   "source": []
  },
  {
   "cell_type": "code",
   "execution_count": null,
   "metadata": {},
   "outputs": [],
   "source": []
  },
  {
   "cell_type": "code",
   "execution_count": 272,
   "metadata": {},
   "outputs": [],
   "source": [
    "from sklearn.metrics import roc_curve, auc\n",
    "\n"
   ]
  },
  {
   "cell_type": "code",
   "execution_count": 273,
   "metadata": {},
   "outputs": [
    {
     "data": {
      "text/html": [
       "<div>\n",
       "<style scoped>\n",
       "    .dataframe tbody tr th:only-of-type {\n",
       "        vertical-align: middle;\n",
       "    }\n",
       "\n",
       "    .dataframe tbody tr th {\n",
       "        vertical-align: top;\n",
       "    }\n",
       "\n",
       "    .dataframe thead th {\n",
       "        text-align: right;\n",
       "    }\n",
       "</style>\n",
       "<table border=\"1\" class=\"dataframe\">\n",
       "  <thead>\n",
       "    <tr style=\"text-align: right;\">\n",
       "      <th></th>\n",
       "      <th>class_0_pp</th>\n",
       "      <th>class_1_pp</th>\n",
       "      <th>pred_class_thresh10</th>\n",
       "    </tr>\n",
       "  </thead>\n",
       "  <tbody>\n",
       "    <tr>\n",
       "      <th>0</th>\n",
       "      <td>0.2</td>\n",
       "      <td>0.8</td>\n",
       "      <td>1</td>\n",
       "    </tr>\n",
       "    <tr>\n",
       "      <th>1</th>\n",
       "      <td>0.7</td>\n",
       "      <td>0.3</td>\n",
       "      <td>0</td>\n",
       "    </tr>\n",
       "    <tr>\n",
       "      <th>2</th>\n",
       "      <td>0.5</td>\n",
       "      <td>0.5</td>\n",
       "      <td>0</td>\n",
       "    </tr>\n",
       "    <tr>\n",
       "      <th>3</th>\n",
       "      <td>0.2</td>\n",
       "      <td>0.8</td>\n",
       "      <td>1</td>\n",
       "    </tr>\n",
       "    <tr>\n",
       "      <th>4</th>\n",
       "      <td>0.6</td>\n",
       "      <td>0.4</td>\n",
       "      <td>0</td>\n",
       "    </tr>\n",
       "    <tr>\n",
       "      <th>5</th>\n",
       "      <td>0.1</td>\n",
       "      <td>0.9</td>\n",
       "      <td>1</td>\n",
       "    </tr>\n",
       "    <tr>\n",
       "      <th>6</th>\n",
       "      <td>0.4</td>\n",
       "      <td>0.6</td>\n",
       "      <td>1</td>\n",
       "    </tr>\n",
       "    <tr>\n",
       "      <th>7</th>\n",
       "      <td>0.0</td>\n",
       "      <td>1.0</td>\n",
       "      <td>1</td>\n",
       "    </tr>\n",
       "    <tr>\n",
       "      <th>8</th>\n",
       "      <td>0.3</td>\n",
       "      <td>0.7</td>\n",
       "      <td>1</td>\n",
       "    </tr>\n",
       "  </tbody>\n",
       "</table>\n",
       "</div>"
      ],
      "text/plain": [
       "   class_0_pp  class_1_pp  pred_class_thresh10\n",
       "0         0.2         0.8                    1\n",
       "1         0.7         0.3                    0\n",
       "2         0.5         0.5                    0\n",
       "3         0.2         0.8                    1\n",
       "4         0.6         0.4                    0\n",
       "5         0.1         0.9                    1\n",
       "6         0.4         0.6                    1\n",
       "7         0.0         1.0                    1\n",
       "8         0.3         0.7                    1"
      ]
     },
     "execution_count": 273,
     "metadata": {},
     "output_type": "execute_result"
    }
   ],
   "source": [
    "rf_ppr= rf.predict_proba(X_test)\n",
    "#Code here please\n",
    "df = pd.DataFrame()\n",
    "l1= list(map (lambda x : float(x) ,rf_ppr[0:, :1]))\n",
    "l2 =list(map (lambda x : float(x) ,rf_ppr[0:, 1:2]))\n",
    "df['class_0_pp'] =  l1\n",
    "df['class_1_pp'] =  l2\n",
    "df['pred_class_thresh10'] = 0\n",
    "# df.class_1_pp.values\n",
    "# df.head()\n",
    "for c in range(len(df['class_0_pp'])):\n",
    "    if df['class_1_pp'][c] > df['class_0_pp'][c]:\n",
    "        df['pred_class_thresh10'][c]=1\n",
    "        \n",
    "df.head(9)"
   ]
  },
  {
   "cell_type": "code",
   "execution_count": 276,
   "metadata": {},
   "outputs": [
    {
     "name": "stderr",
     "output_type": "stream",
     "text": [
      "No handles with labels found to put in legend.\n"
     ]
    },
    {
     "data": {
      "image/png": "[encoded data removed]",
      "text/plain": [
       "<Figure size 432x432 with 1 Axes>"
      ]
     },
     "metadata": {
      "image/png": {
       "height": 394,
       "width": 501
      },
      "needs_background": "light"
     },
     "output_type": "display_data"
    }
   ],
   "source": [
    "fpr, tpr, threshold = roc_curve(y_test, df.class_1_pp)\n",
    "roc_auc = auc(fpr, tpr)\n",
    "\n",
    "# Plot of a ROC curve for class 1 (has_cancer)\n",
    "plt.figure(figsize=[6,6])\n",
    "plt.plot(fpr, tpr,roc_auc, linewidth=4)\n",
    "plt.plot([0, 1], [0, 1], 'k--', linewidth=4)\n",
    "# plt.xlim([-0.05, 1.0])\n",
    "# plt.ylim([-0.05, 1.05])\n",
    "plt.xlabel('False Positive Rate', fontsize=18)\n",
    "plt.ylabel('True Positive Rate', fontsize=18)\n",
    "plt.title('Receiver operating characteristic for cancer detection', fontsize=18)\n",
    "plt.legend(loc=\"lower right\")\n",
    "plt.show()"
   ]
  },
  {
   "cell_type": "code",
   "execution_count": null,
   "metadata": {},
   "outputs": [],
   "source": []
  }
 ],
 "metadata": {
  "kernelspec": {
   "display_name": "Python 3",
   "language": "python",
   "name": "python3"
  },
  "language_info": {
   "codemirror_mode": {
    "name": "ipython",
    "version": 3
   },
   "file_extension": ".py",
   "mimetype": "text/x-python",
   "name": "python",
   "nbconvert_exporter": "python",
   "pygments_lexer": "ipython3",
   "version": "3.7.3"
  }
 },
 "nbformat": 4,
 "nbformat_minor": 2
}
